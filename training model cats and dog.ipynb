{
 "cells": [
  {
   "cell_type": "code",
   "execution_count": 1,
   "metadata": {},
   "outputs": [],
   "source": [
    "from tensorflow.keras.models import Sequential\n",
    "from tensorflow.keras.layers import Dense, Dropout, Activation, Flatten\n",
    "from tensorflow.keras.layers import Conv2D, MaxPooling2D\n",
    "# more info on callbakcs: https://keras.io/callbacks/ model saver is cool too.\n",
    "from tensorflow.keras.callbacks import TensorBoard\n",
    "import pickle\n",
    "import time\n",
    "import numpy as np"
   ]
  },
  {
   "cell_type": "code",
   "execution_count": 2,
   "metadata": {},
   "outputs": [],
   "source": [
    "pickle_in = open(\"X.pickle\",\"rb\")\n",
    "X = pickle.load(pickle_in)"
   ]
  },
  {
   "cell_type": "code",
   "execution_count": 3,
   "metadata": {},
   "outputs": [],
   "source": [
    "pickle_in = open(\"y.pickle\",\"rb\")\n",
    "y = pickle.load(pickle_in)"
   ]
  },
  {
   "cell_type": "code",
   "execution_count": 4,
   "metadata": {},
   "outputs": [],
   "source": [
    "X = X/255.0"
   ]
  },
  {
   "cell_type": "code",
   "execution_count": 5,
   "metadata": {},
   "outputs": [],
   "source": [
    "dense_layers = [0]\n",
    "layer_sizes = [64]\n",
    "conv_layers = [3]\n"
   ]
  },
  {
   "cell_type": "code",
   "execution_count": 6,
   "metadata": {},
   "outputs": [
    {
     "name": "stdout",
     "output_type": "stream",
     "text": [
      "3-conv-64-nodes-0-dense-1582797998\n"
     ]
    }
   ],
   "source": [
    "for dense_layer in dense_layers:\n",
    "    for layer_size in layer_sizes:\n",
    "        for conv_layer in conv_layers:\n",
    "            NAME = \"{}-conv-{}-nodes-{}-dense-{}\".format(conv_layer, layer_size, dense_layer, int(time.time()))\n",
    "            print(NAME)"
   ]
  },
  {
   "cell_type": "code",
   "execution_count": 7,
   "metadata": {},
   "outputs": [],
   "source": [
    " model = Sequential()"
   ]
  },
  {
   "cell_type": "code",
   "execution_count": 8,
   "metadata": {},
   "outputs": [],
   "source": [
    "model.add(Conv2D(layer_size, (3, 3), input_shape=X.shape[1:]))\n",
    "model.add(Activation('relu'))\n",
    "model.add(MaxPooling2D(pool_size=(2, 2)))"
   ]
  },
  {
   "cell_type": "code",
   "execution_count": 9,
   "metadata": {},
   "outputs": [],
   "source": [
    "for l in range(conv_layer-1):\n",
    "    model.add(Conv2D(layer_size, (3, 3)))\n",
    "    model.add(Activation('relu'))\n",
    "    model.add(MaxPooling2D(pool_size=(2, 2)))\n",
    "model.add(Flatten())"
   ]
  },
  {
   "cell_type": "code",
   "execution_count": 10,
   "metadata": {},
   "outputs": [],
   "source": [
    "for _ in range(dense_layer):\n",
    "    model.add(Dense(layer_size))\n",
    "    model.add(Activation('relu'))"
   ]
  },
  {
   "cell_type": "code",
   "execution_count": 11,
   "metadata": {},
   "outputs": [],
   "source": [
    "model.add(Dense(1))\n",
    "model.add(Activation('sigmoid'))"
   ]
  },
  {
   "cell_type": "code",
   "execution_count": 12,
   "metadata": {},
   "outputs": [],
   "source": [
    "tensorboard = TensorBoard(log_dir=\"logs/{}\".format(NAME))"
   ]
  },
  {
   "cell_type": "code",
   "execution_count": 13,
   "metadata": {},
   "outputs": [],
   "source": [
    "model.compile(loss='binary_crossentropy',\n",
    "                          optimizer='adam',\n",
    "                          metrics=['accuracy'],\n",
    "                          )"
   ]
  },
  {
   "cell_type": "code",
   "execution_count": 14,
   "metadata": {},
   "outputs": [
    {
     "name": "stdout",
     "output_type": "stream",
     "text": [
      "Train on 22451 samples, validate on 2495 samples\n",
      "Epoch 1/40\n",
      "22451/22451 [==============================] - 88s 4ms/sample - loss: 0.6513 - accuracy: 0.6076 - val_loss: 0.5868 - val_accuracy: 0.6982\n",
      "Epoch 2/40\n",
      "22451/22451 [==============================] - 84s 4ms/sample - loss: 0.5469 - accuracy: 0.7257 - val_loss: 0.5066 - val_accuracy: 0.7519\n",
      "Epoch 3/40\n",
      "22451/22451 [==============================] - 83s 4ms/sample - loss: 0.4858 - accuracy: 0.7666 - val_loss: 0.4618 - val_accuracy: 0.7792\n",
      "Epoch 4/40\n",
      "22451/22451 [==============================] - 80s 4ms/sample - loss: 0.4509 - accuracy: 0.7877 - val_loss: 0.4440 - val_accuracy: 0.7928\n",
      "Epoch 5/40\n",
      "22451/22451 [==============================] - 79s 4ms/sample - loss: 0.4180 - accuracy: 0.8095 - val_loss: 0.4191 - val_accuracy: 0.8092\n",
      "Epoch 6/40\n",
      "22451/22451 [==============================] - 83s 4ms/sample - loss: 0.3903 - accuracy: 0.8234 - val_loss: 0.4144 - val_accuracy: 0.8088\n",
      "Epoch 7/40\n",
      "22451/22451 [==============================] - 97s 4ms/sample - loss: 0.3610 - accuracy: 0.8368 - val_loss: 0.4538 - val_accuracy: 0.8008\n",
      "Epoch 8/40\n",
      "22451/22451 [==============================] - 101s 5ms/sample - loss: 0.3347 - accuracy: 0.8531 - val_loss: 0.3936 - val_accuracy: 0.8244\n",
      "Epoch 9/40\n",
      "22451/22451 [==============================] - 83s 4ms/sample - loss: 0.3114 - accuracy: 0.8628 - val_loss: 0.3997 - val_accuracy: 0.8192\n",
      "Epoch 10/40\n",
      "22451/22451 [==============================] - 81s 4ms/sample - loss: 0.2896 - accuracy: 0.8752 - val_loss: 0.4090 - val_accuracy: 0.8228\n",
      "Epoch 11/40\n",
      "22451/22451 [==============================] - 80s 4ms/sample - loss: 0.2705 - accuracy: 0.8814 - val_loss: 0.4114 - val_accuracy: 0.8293\n",
      "Epoch 12/40\n",
      "22451/22451 [==============================] - 84s 4ms/sample - loss: 0.2527 - accuracy: 0.8923 - val_loss: 0.4038 - val_accuracy: 0.8293\n",
      "Epoch 13/40\n",
      "22451/22451 [==============================] - 80s 4ms/sample - loss: 0.2310 - accuracy: 0.9012 - val_loss: 0.4193 - val_accuracy: 0.8224\n",
      "Epoch 14/40\n",
      "22451/22451 [==============================] - 86s 4ms/sample - loss: 0.2112 - accuracy: 0.9148 - val_loss: 0.4245 - val_accuracy: 0.8265\n",
      "Epoch 15/40\n",
      "22451/22451 [==============================] - 81s 4ms/sample - loss: 0.1953 - accuracy: 0.9181 - val_loss: 0.4439 - val_accuracy: 0.8297\n",
      "Epoch 16/40\n",
      "22451/22451 [==============================] - 86s 4ms/sample - loss: 0.1762 - accuracy: 0.9279 - val_loss: 0.5371 - val_accuracy: 0.8172\n",
      "Epoch 17/40\n",
      "22451/22451 [==============================] - 97s 4ms/sample - loss: 0.1588 - accuracy: 0.9355 - val_loss: 0.4848 - val_accuracy: 0.8216\n",
      "Epoch 18/40\n",
      "22451/22451 [==============================] - 84s 4ms/sample - loss: 0.1460 - accuracy: 0.9414 - val_loss: 0.5186 - val_accuracy: 0.8244\n",
      "Epoch 19/40\n",
      "22451/22451 [==============================] - 113s 5ms/sample - loss: 0.1349 - accuracy: 0.9469 - val_loss: 0.5415 - val_accuracy: 0.8285\n",
      "Epoch 20/40\n",
      "22451/22451 [==============================] - 105s 5ms/sample - loss: 0.1181 - accuracy: 0.9547 - val_loss: 0.5911 - val_accuracy: 0.8176\n",
      "Epoch 21/40\n",
      "22451/22451 [==============================] - 88s 4ms/sample - loss: 0.1067 - accuracy: 0.9589 - val_loss: 0.6114 - val_accuracy: 0.8196\n",
      "Epoch 22/40\n",
      "22451/22451 [==============================] - 95s 4ms/sample - loss: 0.0951 - accuracy: 0.9640 - val_loss: 0.6223 - val_accuracy: 0.8236\n",
      "Epoch 23/40\n",
      "22451/22451 [==============================] - 93s 4ms/sample - loss: 0.0894 - accuracy: 0.9642 - val_loss: 0.6569 - val_accuracy: 0.8232\n",
      "Epoch 24/40\n",
      "22451/22451 [==============================] - 88s 4ms/sample - loss: 0.0768 - accuracy: 0.9710 - val_loss: 0.6842 - val_accuracy: 0.8269\n",
      "Epoch 25/40\n",
      "22451/22451 [==============================] - 81s 4ms/sample - loss: 0.0714 - accuracy: 0.9745 - val_loss: 0.7808 - val_accuracy: 0.8100\n",
      "Epoch 26/40\n",
      "22451/22451 [==============================] - 98s 4ms/sample - loss: 0.0623 - accuracy: 0.9786 - val_loss: 0.8082 - val_accuracy: 0.8156\n",
      "Epoch 27/40\n",
      "22451/22451 [==============================] - 88s 4ms/sample - loss: 0.0548 - accuracy: 0.9812 - val_loss: 0.8694 - val_accuracy: 0.8088\n",
      "Epoch 28/40\n",
      "22451/22451 [==============================] - 93s 4ms/sample - loss: 0.0471 - accuracy: 0.9848 - val_loss: 0.8778 - val_accuracy: 0.8156\n",
      "Epoch 29/40\n",
      "22451/22451 [==============================] - 89s 4ms/sample - loss: 0.0577 - accuracy: 0.9782 - val_loss: 0.8912 - val_accuracy: 0.8208\n",
      "Epoch 30/40\n",
      "22451/22451 [==============================] - 91s 4ms/sample - loss: 0.0476 - accuracy: 0.9825 - val_loss: 0.9797 - val_accuracy: 0.8084\n",
      "Epoch 31/40\n",
      "22451/22451 [==============================] - 102s 5ms/sample - loss: 0.0389 - accuracy: 0.9862 - val_loss: 0.9499 - val_accuracy: 0.8200\n",
      "Epoch 32/40\n",
      "22451/22451 [==============================] - 103s 5ms/sample - loss: 0.0442 - accuracy: 0.9847 - val_loss: 1.0407 - val_accuracy: 0.7924\n",
      "Epoch 33/40\n",
      "22451/22451 [==============================] - 87s 4ms/sample - loss: 0.0484 - accuracy: 0.9829 - val_loss: 1.0436 - val_accuracy: 0.7996\n",
      "Epoch 34/40\n",
      "22451/22451 [==============================] - 98s 4ms/sample - loss: 0.0294 - accuracy: 0.9904 - val_loss: 1.0583 - val_accuracy: 0.8076\n",
      "Epoch 35/40\n",
      "22451/22451 [==============================] - 83s 4ms/sample - loss: 0.0265 - accuracy: 0.9920 - val_loss: 1.0525 - val_accuracy: 0.8176\n",
      "Epoch 36/40\n",
      "22451/22451 [==============================] - 93s 4ms/sample - loss: 0.0524 - accuracy: 0.9792 - val_loss: 1.0406 - val_accuracy: 0.8152\n",
      "Epoch 37/40\n",
      "22451/22451 [==============================] - 78s 3ms/sample - loss: 0.0287 - accuracy: 0.9908 - val_loss: 1.2794 - val_accuracy: 0.7924\n",
      "Epoch 38/40\n",
      "22451/22451 [==============================] - 91s 4ms/sample - loss: 0.0310 - accuracy: 0.9891 - val_loss: 1.1810 - val_accuracy: 0.8000\n",
      "Epoch 39/40\n",
      "22451/22451 [==============================] - 92s 4ms/sample - loss: 0.0446 - accuracy: 0.9835 - val_loss: 1.1919 - val_accuracy: 0.8092\n",
      "Epoch 40/40\n",
      "22451/22451 [==============================] - 91s 4ms/sample - loss: 0.0209 - accuracy: 0.9941 - val_loss: 1.1839 - val_accuracy: 0.8028\n"
     ]
    }
   ],
   "source": [
    "IMG_SIZE = 50\n",
    "\n",
    "X = np.array(X).reshape(-1, IMG_SIZE, IMG_SIZE, 1)\n",
    "\n",
    "y = np.array(y)\n",
    "\n",
    "history = model.fit(X, y, batch_size=32, epochs=40, validation_split=0.1)"
   ]
  },
  {
   "cell_type": "code",
   "execution_count": 15,
   "metadata": {
    "scrolled": true
   },
   "outputs": [
    {
     "name": "stdout",
     "output_type": "stream",
     "text": [
      "WARNING:tensorflow:From C:\\Users\\user\\Anaconda3\\lib\\site-packages\\tensorflow_core\\python\\ops\\resource_variable_ops.py:1781: calling BaseResourceVariable.__init__ (from tensorflow.python.ops.resource_variable_ops) with constraint is deprecated and will be removed in a future version.\n",
      "Instructions for updating:\n",
      "If using Keras pass *_constraint arguments to layers.\n",
      "INFO:tensorflow:Assets written to: 64x3-CNN.model\\assets\n"
     ]
    }
   ],
   "source": [
    "model.save('64x3-CNN.model')"
   ]
  },
  {
   "cell_type": "code",
   "execution_count": null,
   "metadata": {},
   "outputs": [],
   "source": []
  }
 ],
 "metadata": {
  "kernelspec": {
   "display_name": "Python 3",
   "language": "python",
   "name": "python3"
  },
  "language_info": {
   "codemirror_mode": {
    "name": "ipython",
    "version": 3
   },
   "file_extension": ".py",
   "mimetype": "text/x-python",
   "name": "python",
   "nbconvert_exporter": "python",
   "pygments_lexer": "ipython3",
   "version": "3.7.4"
  }
 },
 "nbformat": 4,
 "nbformat_minor": 2
}
